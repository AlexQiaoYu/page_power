{
 "cells": [
  {
   "cell_type": "code",
   "execution_count": 1,
   "id": "7d3cfb32",
   "metadata": {},
   "outputs": [],
   "source": [
    "import os\n",
    "import pandas as pd\n",
    "from openai import AzureOpenAI\n",
    "from dotenv import load_dotenv\n",
    "\n",
    "# .envファイルから環境変数を読み込む\n",
    "load_dotenv()\n",
    "\n",
    "# Azure OpenAIクライアントの初期化\n",
    "client = AzureOpenAI(\n",
    "    azure_endpoint=os.getenv(\"AZURE_OPENAI_ENDPOINT\"),\n",
    "    api_key=os.getenv(\"AZURE_OPENAI_API_KEY\"),\n",
    "    api_version=os.getenv(\"AZURE_OPENAI_API_VERSION\"),\n",
    ")\n",
    "\n",
    "deployment_name = os.getenv(\"AZURE_OPENAI_DEPLOYMENT_NAME\")\n",
    "\n"
   ]
  },
  {
   "cell_type": "code",
   "execution_count": null,
   "id": "ffc9bb21",
   "metadata": {},
   "outputs": [],
   "source": []
  },
  {
   "cell_type": "code",
   "execution_count": 3,
   "id": "b68dc4b5",
   "metadata": {},
   "outputs": [
    {
     "name": "stdout",
     "output_type": "stream",
     "text": [
      "こんにちは。親切で実用的なサポートを心がけるAIアシスタントです。\n",
      "\n",
      "できること\n",
      "- 情報整理・要約・わかりやすい説明（知識は2024年10月まで）\n",
      "- 文章作成（メール、記事、企画書、添削）やアイデア出し\n",
      "- 学習サポート／試験対策／思考の整理\n",
      "- プログラミングの質問やコード例（Python、JavaScript、SQL など）\n",
      "- 仕事の効率化（タスク分解、チェックリスト、テンプレ作成）\n",
      "\n",
      "制限\n",
      "- リアルタイムのウェブ閲覧や最新ニュースの確認はできません\n",
      "- 医療・法律・税務などは一般的な情報提供にとどまり、最終判断は専門家へ\n",
      "- 正確さに努めますが、重要事項は出典確認をおすすめします\n",
      "\n",
      "使い方のコツ\n",
      "- 目的、背景、制約（文字数、口調、締切など）、出力形式を教えてください\n",
      "- 日本語・英語、丁寧・カジュアル、要点のみ・詳しく、など希望に合わせます\n",
      "\n",
      "必要であれば自己紹介を伺って、より合った提案もできます。今日はどんなことをお手伝いしましょう？\n"
     ]
    }
   ],
   "source": [
    "# プロンプトの定義\n",
    "prompt = \"こんにちは、自己紹介をしてください。\"\n",
    "\n",
    "# Chat Completions APIを呼び出す\n",
    "response = client.chat.completions.create(\n",
    "    model=deployment_name,\n",
    "    messages=[\n",
    "        {\"role\": \"system\", \"content\": \"あなたは親切なAIアシスタントです。\"},\n",
    "        {\"role\": \"user\", \"content\": prompt},\n",
    "    ],\n",
    ")\n",
    "\n",
    "# 応答の表示\n",
    "print(response.choices[0].message.content)\n"
   ]
  },
  {
   "cell_type": "code",
   "execution_count": null,
   "id": "4ff5eeb5",
   "metadata": {},
   "outputs": [],
   "source": []
  }
 ],
 "metadata": {
  "kernelspec": {
   "display_name": "page-power (3.13.5)",
   "language": "python",
   "name": "python3"
  },
  "language_info": {
   "codemirror_mode": {
    "name": "ipython",
    "version": 3
   },
   "file_extension": ".py",
   "mimetype": "text/x-python",
   "name": "python",
   "nbconvert_exporter": "python",
   "pygments_lexer": "ipython3",
   "version": "3.13.5"
  }
 },
 "nbformat": 4,
 "nbformat_minor": 5
}
